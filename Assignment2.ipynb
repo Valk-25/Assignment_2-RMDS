{
  "nbformat": 4,
  "nbformat_minor": 0,
  "metadata": {
    "colab": {
      "provenance": [],
      "authorship_tag": "ABX9TyPdyXVzQ0X9FUMKdlOQJUXj",
      "include_colab_link": true
    },
    "kernelspec": {
      "name": "python3",
      "display_name": "Python 3"
    },
    "language_info": {
      "name": "python"
    }
  },
  "cells": [
    {
      "cell_type": "markdown",
      "metadata": {
        "id": "view-in-github",
        "colab_type": "text"
      },
      "source": [
        "<a href=\"https://colab.research.google.com/github/Valk-25/Assignment_2-RMDS/blob/main/Assignment2.ipynb\" target=\"_parent\"><img src=\"https://colab.research.google.com/assets/colab-badge.svg\" alt=\"Open In Colab\"/></a>"
      ]
    },
    {
      "cell_type": "markdown",
      "source": [
        "\n",
        "-----------------------------------------------------------------------------------------------------------------------\n",
        "Write a python program to sort the list of heterogeneous data.\n",
        "e.g.\n",
        "\n",
        "L = [\"Ram\", 1, \"Shyam\", 2, \"Aman\", 3]\n",
        "\n",
        "print(L)\n",
        "\n",
        "L.sort()\n",
        "\n",
        "print(L)\n",
        "\n",
        "Above code gives error. Correct it.\n",
        "\n"
      ],
      "metadata": {
        "id": "4-WSaYUderJq"
      }
    },
    {
      "cell_type": "code",
      "execution_count": null,
      "metadata": {
        "id": "vgBEbn3aekF7"
      },
      "outputs": [],
      "source": [
        "def sort_key(item):\n",
        "  if isinstance(item,str):\n",
        "    return (2,item)\n",
        "  elif isinstance(item,int):\n",
        "    return (1,item)\n",
        "  elif isinstance(item,float):\n",
        "    return (1,item)\n",
        "  else:\n",
        "    return (0,item)\n",
        "L = [\"Ram\", 1, \"Shyam\", 2, \"Aman\", 3, [1,2], 19.0, 1.5, [3,4] , [1,3], [1,4,3], [1,3,5]]\n",
        "print(L)\n",
        "L.sort(key=sort_key)\n",
        "print(L)"
      ]
    }
  ]
}